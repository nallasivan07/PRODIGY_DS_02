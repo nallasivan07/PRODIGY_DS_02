{
  "nbformat": 4,
  "nbformat_minor": 0,
  "metadata": {
    "colab": {
      "provenance": [],
      "authorship_tag": "ABX9TyMW1QNUFnUtBYQv56KqUkuS",
      "include_colab_link": true
    },
    "kernelspec": {
      "name": "python3",
      "display_name": "Python 3"
    },
    "language_info": {
      "name": "python"
    }
  },
  "cells": [
    {
      "cell_type": "markdown",
      "metadata": {
        "id": "view-in-github",
        "colab_type": "text"
      },
      "source": [
        "<a href=\"https://colab.research.google.com/github/nallasivan07/PRODIGY_DS_02/blob/main/PRODIGY_DS_02.ipynb\" target=\"_parent\"><img src=\"https://colab.research.google.com/assets/colab-badge.svg\" alt=\"Open In Colab\"/></a>"
      ]
    },
    {
      "cell_type": "code",
      "execution_count": null,
      "metadata": {
        "colab": {
          "base_uri": "https://localhost:8080/"
        },
        "id": "mK_0ENJZa-uZ",
        "outputId": "2c774d6d-5b73-42f3-fabf-df418669fad3"
      },
      "outputs": [
        {
          "output_type": "stream",
          "name": "stdout",
          "text": [
            "Train Dataset Preview:\n",
            "   PassengerId  Survived  Pclass  \\\n",
            "0            1         0       3   \n",
            "1            2         1       1   \n",
            "2            3         1       3   \n",
            "3            4         1       1   \n",
            "4            5         0       3   \n",
            "\n",
            "                                                Name     Sex   Age  SibSp  \\\n",
            "0                            Braund, Mr. Owen Harris    male  22.0      1   \n",
            "1  Cumings, Mrs. John Bradley (Florence Briggs Th...  female  38.0      1   \n",
            "2                             Heikkinen, Miss. Laina  female  26.0      0   \n",
            "3       Futrelle, Mrs. Jacques Heath (Lily May Peel)  female  35.0      1   \n",
            "4                           Allen, Mr. William Henry    male  35.0      0   \n",
            "\n",
            "   Parch            Ticket     Fare Cabin Embarked  \n",
            "0      0         A/5 21171   7.2500   NaN        S  \n",
            "1      0          PC 17599  71.2833   C85        C  \n",
            "2      0  STON/O2. 3101282   7.9250   NaN        S  \n",
            "3      0            113803  53.1000  C123        S  \n",
            "4      0            373450   8.0500   NaN        S  \n",
            "\n",
            "Data Summary:\n",
            "<class 'pandas.core.frame.DataFrame'>\n",
            "RangeIndex: 891 entries, 0 to 890\n",
            "Data columns (total 12 columns):\n",
            " #   Column       Non-Null Count  Dtype  \n",
            "---  ------       --------------  -----  \n",
            " 0   PassengerId  891 non-null    int64  \n",
            " 1   Survived     891 non-null    int64  \n",
            " 2   Pclass       891 non-null    int64  \n",
            " 3   Name         891 non-null    object \n",
            " 4   Sex          891 non-null    object \n",
            " 5   Age          714 non-null    float64\n",
            " 6   SibSp        891 non-null    int64  \n",
            " 7   Parch        891 non-null    int64  \n",
            " 8   Ticket       891 non-null    object \n",
            " 9   Fare         891 non-null    float64\n",
            " 10  Cabin        204 non-null    object \n",
            " 11  Embarked     889 non-null    object \n",
            "dtypes: float64(2), int64(5), object(5)\n",
            "memory usage: 83.7+ KB\n",
            "\n",
            "Basic Statistics:\n",
            "        PassengerId    Survived      Pclass                     Name   Sex  \\\n",
            "count    891.000000  891.000000  891.000000                      891   891   \n",
            "unique          NaN         NaN         NaN                      891     2   \n",
            "top             NaN         NaN         NaN  Braund, Mr. Owen Harris  male   \n",
            "freq            NaN         NaN         NaN                        1   577   \n",
            "mean     446.000000    0.383838    2.308642                      NaN   NaN   \n",
            "std      257.353842    0.486592    0.836071                      NaN   NaN   \n",
            "min        1.000000    0.000000    1.000000                      NaN   NaN   \n",
            "25%      223.500000    0.000000    2.000000                      NaN   NaN   \n",
            "50%      446.000000    0.000000    3.000000                      NaN   NaN   \n",
            "75%      668.500000    1.000000    3.000000                      NaN   NaN   \n",
            "max      891.000000    1.000000    3.000000                      NaN   NaN   \n",
            "\n",
            "               Age       SibSp       Parch  Ticket        Fare    Cabin  \\\n",
            "count   714.000000  891.000000  891.000000     891  891.000000      204   \n",
            "unique         NaN         NaN         NaN     681         NaN      147   \n",
            "top            NaN         NaN         NaN  347082         NaN  B96 B98   \n",
            "freq           NaN         NaN         NaN       7         NaN        4   \n",
            "mean     29.699118    0.523008    0.381594     NaN   32.204208      NaN   \n",
            "std      14.526497    1.102743    0.806057     NaN   49.693429      NaN   \n",
            "min       0.420000    0.000000    0.000000     NaN    0.000000      NaN   \n",
            "25%      20.125000    0.000000    0.000000     NaN    7.910400      NaN   \n",
            "50%      28.000000    0.000000    0.000000     NaN   14.454200      NaN   \n",
            "75%      38.000000    1.000000    0.000000     NaN   31.000000      NaN   \n",
            "max      80.000000    8.000000    6.000000     NaN  512.329200      NaN   \n",
            "\n",
            "       Embarked  \n",
            "count       889  \n",
            "unique        3  \n",
            "top           S  \n",
            "freq        644  \n",
            "mean        NaN  \n",
            "std         NaN  \n",
            "min         NaN  \n",
            "25%         NaN  \n",
            "50%         NaN  \n",
            "75%         NaN  \n",
            "max         NaN  \n",
            "\n",
            "Missing Values:\n",
            "PassengerId      0\n",
            "Survived         0\n",
            "Pclass           0\n",
            "Name             0\n",
            "Sex              0\n",
            "Age            177\n",
            "SibSp            0\n",
            "Parch            0\n",
            "Ticket           0\n",
            "Fare             0\n",
            "Cabin          687\n",
            "Embarked         2\n",
            "dtype: int64\n",
            "\n",
            "Filling missing Age values with median: 28.0\n",
            "\n",
            "Dropping Cabin column\n",
            "\n",
            "Filling missing Embarked values with mode: S\n",
            "\n",
            "Missing Values After Cleaning:\n",
            "PassengerId    0\n",
            "Survived       0\n",
            "Pclass         0\n",
            "Name           0\n",
            "Sex            0\n",
            "Age            0\n",
            "SibSp          0\n",
            "Parch          0\n",
            "Ticket         0\n",
            "Fare           0\n",
            "Embarked       0\n",
            "dtype: int64\n"
          ]
        }
      ],
      "source": [
        "import pandas as pd\n",
        "train_df = pd.read_csv('/content/train.csv')\n",
        "test_df = pd.read_csv('/content/test.csv')\n",
        "gender_submission_df = pd.read_csv('/content/gender_submission.csv')\n",
        "print(\"Train Dataset Preview:\")\n",
        "print(train_df.head())\n",
        "print(\"\\nData Summary:\")\n",
        "train_df.info()\n",
        "print(\"\\nBasic Statistics:\")\n",
        "print(train_df.describe(include='all'))\n",
        "print(\"\\nMissing Values:\")\n",
        "missing_values = train_df.isnull().sum()\n",
        "print(missing_values)\n",
        "median_age = train_df['Age'].median()\n",
        "print(f\"\\nFilling missing Age values with median: {median_age}\")\n",
        "train_df['Age'].fillna(median_age, inplace=True)\n",
        "print(\"\\nDropping Cabin column\")\n",
        "train_df.drop(columns=['Cabin'], inplace=True)\n",
        "mode_embarked = train_df['Embarked'].mode()[0]\n",
        "print(f\"\\nFilling missing Embarked values with mode: {mode_embarked}\")\n",
        "train_df['Embarked'].fillna(mode_embarked, inplace=True)\n",
        "print(\"\\nMissing Values After Cleaning:\")\n",
        "print(train_df.isnull().sum())\n",
        "train_df['FamilySize'] = train_df['SibSp'] + train_df['Parch'] + 1\n",
        "train_df['IsAlone'] = (train_df['FamilySize'] == 1).astype(int)\n",
        "train_df['Title'] = train_df['Name'].apply(lambda name: name.split(',')[1].split('.')[0].strip())\n",
        "title_mapping = {\n",
        "    \"Mr\": \"Mr\", \"Miss\": \"Miss\", \"Mrs\": \"Mrs\", \"Master\": \"Master\",\n",
        "    \"Dr\": \"Rare\", \"Rev\": \"Rare\", \"Col\": \"Rare\", \"Major\": \"Rare\",\n",
        "    \"Mlle\": \"Miss\", \"Countess\": \"Rare\", \"Ms\": \"Mrs\", \"Lady\": \"Rare\",\n",
        "    \"Jonkheer\": \"Rare\", \"Don\": \"Rare\", \"Mme\": \"Mrs\", \"Capt\": \"Rare\",\n",
        "    \"Sir\": \"Rare\"\n",
        "}\n"
      ]
    },
    {
      "cell_type": "code",
      "source": [
        "train_df['Title'] = train_df['Title'].map(title_mapping)\n",
        "train_df['Title'].fillna('Rare', inplace=True)\n",
        "print(\"\\nModified DataFrame with New Features:\")\n",
        "print(train_df.head())\n",
        "import seaborn as sns\n",
        "import matplotlib.pyplot as plt\n",
        "print(\"\\nSurvival Rate by Sex:\")\n",
        "print(train_df[['Sex', 'Survived']].groupby('Sex').mean())\n",
        "\n"
      ],
      "metadata": {
        "colab": {
          "base_uri": "https://localhost:8080/"
        },
        "id": "8gs-2fMdchNB",
        "outputId": "752ccec0-20bb-4c49-df85-387840d81809"
      },
      "execution_count": null,
      "outputs": [
        {
          "output_type": "stream",
          "name": "stdout",
          "text": [
            "\n",
            "Modified DataFrame with New Features:\n",
            "   PassengerId  Survived  Pclass  \\\n",
            "0            1         0       3   \n",
            "1            2         1       1   \n",
            "2            3         1       3   \n",
            "3            4         1       1   \n",
            "4            5         0       3   \n",
            "\n",
            "                                                Name     Sex   Age  SibSp  \\\n",
            "0                            Braund, Mr. Owen Harris    male  22.0      1   \n",
            "1  Cumings, Mrs. John Bradley (Florence Briggs Th...  female  38.0      1   \n",
            "2                             Heikkinen, Miss. Laina  female  26.0      0   \n",
            "3       Futrelle, Mrs. Jacques Heath (Lily May Peel)  female  35.0      1   \n",
            "4                           Allen, Mr. William Henry    male  35.0      0   \n",
            "\n",
            "   Parch            Ticket     Fare Embarked  FamilySize  IsAlone Title  \n",
            "0      0         A/5 21171   7.2500        S           2        0    Mr  \n",
            "1      0          PC 17599  71.2833        C           2        0   Mrs  \n",
            "2      0  STON/O2. 3101282   7.9250        S           1        1  Miss  \n",
            "3      0            113803  53.1000        S           2        0   Mrs  \n",
            "4      0            373450   8.0500        S           1        1    Mr  \n",
            "\n",
            "Survival Rate by Sex:\n",
            "        Survived\n",
            "Sex             \n",
            "female  0.742038\n",
            "male    0.188908\n"
          ]
        }
      ]
    },
    {
      "cell_type": "code",
      "source": [
        "sns.barplot(x='Sex', y='Survived', data=train_df)\n",
        "plt.title('Survival Rate by Sex')\n",
        "plt.show()\n",
        "print(\"\\nSurvival Rate by Pclass:\")\n",
        "print(train_df[['Pclass', 'Survived']].groupby('Pclass').mean())\n"
      ],
      "metadata": {
        "colab": {
          "base_uri": "https://localhost:8080/",
          "height": 593
        },
        "id": "XN-HRxq5chJy",
        "outputId": "662f7d8c-2728-4417-a4ee-d4ba8cac33ba"
      },
      "execution_count": null,
      "outputs": [
        {
          "output_type": "display_data",
          "data": {
            "text/plain": [
              "<Figure size 640x480 with 1 Axes>"
            ],
            "image/png": "[encoded data removed]"
          },
          "metadata": {}
        },
        {
          "output_type": "stream",
          "name": "stdout",
          "text": [
            "\n",
            "Survival Rate by Pclass:\n",
            "        Survived\n",
            "Pclass          \n",
            "1       0.629630\n",
            "2       0.472826\n",
            "3       0.242363\n"
          ]
        }
      ]
    },
    {
      "cell_type": "code",
      "source": [
        "sns.barplot(x='Pclass', y='Survived', data=train_df)\n",
        "plt.title('Survival Rate by Pclass')\n",
        "plt.show()\n",
        "print(\"\\nSurvival Rate by FamilySize:\")\n",
        "print(train_df[['FamilySize', 'Survived']].groupby('FamilySize').mean())\n"
      ],
      "metadata": {
        "colab": {
          "base_uri": "https://localhost:8080/",
          "height": 698
        },
        "id": "E-YMNpPPchG6",
        "outputId": "f07611cb-18a0-41aa-f8d0-8f007f83cf40"
      },
      "execution_count": null,
      "outputs": [
        {
          "output_type": "display_data",
          "data": {
            "text/plain": [
              "<Figure size 640x480 with 1 Axes>"
            ],
            "image/png": "[encoded data removed]"
          },
          "metadata": {}
        },
        {
          "output_type": "stream",
          "name": "stdout",
          "text": [
            "\n",
            "Survival Rate by FamilySize:\n",
            "            Survived\n",
            "FamilySize          \n",
            "1           0.303538\n",
            "2           0.552795\n",
            "3           0.578431\n",
            "4           0.724138\n",
            "5           0.200000\n",
            "6           0.136364\n",
            "7           0.333333\n",
            "8           0.000000\n",
            "11          0.000000\n"
          ]
        }
      ]
    },
    {
      "cell_type": "code",
      "source": [
        "sns.barplot(x='FamilySize', y='Survived', data=train_df)\n",
        "plt.title('Survival Rate by FamilySize')\n",
        "plt.show()\n",
        "print(\"\\nSurvival Rate by Embarked:\")\n",
        "print(train_df[['Embarked', 'Survived']].groupby('Embarked').mean())\n"
      ],
      "metadata": {
        "colab": {
          "base_uri": "https://localhost:8080/",
          "height": 593
        },
        "id": "1AQG4o3kchDj",
        "outputId": "44a01f70-124a-41bd-ccde-5c1fc2c6645e"
      },
      "execution_count": null,
      "outputs": [
        {
          "output_type": "display_data",
          "data": {
            "text/plain": [
              "<Figure size 640x480 with 1 Axes>"
            ],
            "image/png": "[encoded data removed]"
          },
          "metadata": {}
        },
        {
          "output_type": "stream",
          "name": "stdout",
          "text": [
            "\n",
            "Survival Rate by Embarked:\n",
            "          Survived\n",
            "Embarked          \n",
            "C         0.553571\n",
            "Q         0.389610\n",
            "S         0.339009\n"
          ]
        }
      ]
    },
    {
      "cell_type": "code",
      "source": [
        "sns.barplot(x='Embarked', y='Survived', data=train_df)\n",
        "plt.title('Survival Rate by Embarked')\n",
        "plt.show()"
      ],
      "metadata": {
        "colab": {
          "base_uri": "https://localhost:8080/",
          "height": 472
        },
        "id": "7ZShsgkjchA7",
        "outputId": "cb8b3b50-1cc7-4358-d2d8-43cee12dc275"
      },
      "execution_count": null,
      "outputs": [
        {
          "output_type": "display_data",
          "data": {
            "text/plain": [
              "<Figure size 640x480 with 1 Axes>"
            ],
            "image/png": "[encoded data removed]"
          },
          "metadata": {}
        }
      ]
    },
    {
      "cell_type": "code",
      "source": [],
      "metadata": {
        "id": "j7tinH9Jcg-I"
      },
      "execution_count": null,
      "outputs": []
    },
    {
      "cell_type": "code",
      "source": [],
      "metadata": {
        "id": "4B2YRf-Fcg66"
      },
      "execution_count": null,
      "outputs": []
    },
    {
      "cell_type": "code",
      "source": [],
      "metadata": {
        "id": "iO0bP7Xscg31"
      },
      "execution_count": null,
      "outputs": []
    },
    {
      "cell_type": "code",
      "source": [],
      "metadata": {
        "id": "cFQv14tbcg1U"
      },
      "execution_count": null,
      "outputs": []
    },
    {
      "cell_type": "code",
      "source": [],
      "metadata": {
        "id": "CeGJxfIAcgyb"
      },
      "execution_count": null,
      "outputs": []
    },
    {
      "cell_type": "code",
      "source": [],
      "metadata": {
        "id": "wIN-PLNmcgvb"
      },
      "execution_count": null,
      "outputs": []
    },
    {
      "cell_type": "code",
      "source": [],
      "metadata": {
        "id": "a5wM1fx2cgsf"
      },
      "execution_count": null,
      "outputs": []
    },
    {
      "cell_type": "code",
      "source": [],
      "metadata": {
        "id": "SYxfxNWdcgp6"
      },
      "execution_count": null,
      "outputs": []
    },
    {
      "cell_type": "code",
      "source": [],
      "metadata": {
        "id": "f8Q1f1ThcgnB"
      },
      "execution_count": null,
      "outputs": []
    },
    {
      "cell_type": "code",
      "source": [],
      "metadata": {
        "id": "YZmFmSRWcgkO"
      },
      "execution_count": null,
      "outputs": []
    },
    {
      "cell_type": "code",
      "source": [],
      "metadata": {
        "id": "MREeXEt6cghX"
      },
      "execution_count": null,
      "outputs": []
    },
    {
      "cell_type": "code",
      "source": [],
      "metadata": {
        "id": "790uuy-tcge1"
      },
      "execution_count": null,
      "outputs": []
    },
    {
      "cell_type": "code",
      "source": [],
      "metadata": {
        "id": "Ag1s3V0ccgbu"
      },
      "execution_count": null,
      "outputs": []
    }
  ]
}